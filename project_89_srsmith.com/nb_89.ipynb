{
 "cells": [
  {
   "cell_type": "code",
   "execution_count": 45,
   "metadata": {},
   "outputs": [],
   "source": [
    "from selenium import webdriver\n",
    "from selenium.webdriver.common.keys import Keys\n",
    "from bs4 import BeautifulSoup\n",
    "import requests\n",
    "import re\n",
    "import csv\n",
    "import time"
   ]
  },
  {
   "cell_type": "code",
   "execution_count": 92,
   "metadata": {},
   "outputs": [],
   "source": [
    "f_data = [\"name\",\"latitude\",\"longitude\",\"streetAddress\",\"addressLocality\",\"addressRegion\",\"postalCode\",\"phone\",\"website\",\"email\",\"direction\"]\n",
    "with open('output_89_canada.csv', 'w', newline='', encoding=\"ansi\", errors=\"ignore\") as new_file:\n",
    "    csv_writer = csv.writer(new_file)\n",
    "    csv_writer.writerow(f_data)"
   ]
  },
  {
   "cell_type": "code",
   "execution_count": 84,
   "metadata": {},
   "outputs": [],
   "source": [
    "driver = webdriver.Chrome()\n",
    "url = \"https://srsmith.bullseyelocations.com/SRS_Filters?f=1&_ga=2.267939150.1529052630.1623524040-578952161.1623524040\"\n",
    "driver.get(url)"
   ]
  },
  {
   "cell_type": "code",
   "execution_count": 91,
   "metadata": {},
   "outputs": [
    {
     "name": "stdout",
     "output_type": "stream",
     "text": [
      "13\n"
     ]
    }
   ],
   "source": [
    "states = []\n",
    "with open('canada.csv', 'r' ) as csv_file:\n",
    "    csv_reader = csv.reader(csv_file)\n",
    "    for line in csv_reader:\n",
    "        state = str(line[0]).strip()\n",
    "        states.append(state)\n",
    "print(len(states))"
   ]
  },
  {
   "cell_type": "code",
   "execution_count": 85,
   "metadata": {},
   "outputs": [],
   "source": []
  },
  {
   "cell_type": "code",
   "execution_count": 97,
   "metadata": {},
   "outputs": [
    {
     "name": "stdout",
     "output_type": "stream",
     "text": [
      "8 15 15\n",
      "9 1 1\n",
      "10 5 5\n",
      "11 1 1\n"
     ]
    },
    {
     "ename": "KeyboardInterrupt",
     "evalue": "",
     "output_type": "error",
     "traceback": [
      "\u001b[1;31m---------------------------------------------------------------------------\u001b[0m",
      "\u001b[1;31mKeyboardInterrupt\u001b[0m                         Traceback (most recent call last)",
      "\u001b[1;32m<ipython-input-97-5991c693e92c>\u001b[0m in \u001b[0;36m<module>\u001b[1;34m\u001b[0m\n\u001b[0;32m     27\u001b[0m             \u001b[1;32mbreak\u001b[0m\u001b[1;33m\u001b[0m\u001b[1;33m\u001b[0m\u001b[0m\n\u001b[0;32m     28\u001b[0m         \u001b[1;32melse\u001b[0m\u001b[1;33m:\u001b[0m\u001b[1;33m\u001b[0m\u001b[1;33m\u001b[0m\u001b[0m\n\u001b[1;32m---> 29\u001b[1;33m             \u001b[0mtime\u001b[0m\u001b[1;33m.\u001b[0m\u001b[0msleep\u001b[0m\u001b[1;33m(\u001b[0m\u001b[1;36m1\u001b[0m\u001b[1;33m)\u001b[0m\u001b[1;33m\u001b[0m\u001b[1;33m\u001b[0m\u001b[0m\n\u001b[0m\u001b[0;32m     30\u001b[0m             \u001b[1;32mcontinue\u001b[0m\u001b[1;33m\u001b[0m\u001b[1;33m\u001b[0m\u001b[0m\n\u001b[0;32m     31\u001b[0m     \u001b[1;31m#print(len(items))\u001b[0m\u001b[1;33m\u001b[0m\u001b[1;33m\u001b[0m\u001b[1;33m\u001b[0m\u001b[0m\n",
      "\u001b[1;31mKeyboardInterrupt\u001b[0m: "
     ]
    }
   ],
   "source": [
    "for i in range(8,len(states)):\n",
    "    state = states[i]\n",
    "    \n",
    "    driver.get(url)\n",
    "    country = driver.find_element_by_xpath(\"\"\"//*[@id=\"ctl00_ContentPlaceHolder1_countryList\"]/option[3]\"\"\")\n",
    "    country.click()\n",
    "    time.sleep(5)\n",
    "\n",
    "    radius = driver.find_element_by_xpath(\"\"\"//*[@id=\"ContentPlaceHolder1_radiusList\"]/option[5]\"\"\")\n",
    "    radius.click()\n",
    "    time.sleep(5)\n",
    "    \n",
    "    add_state = driver.find_element_by_xpath(\"\"\"//*[@id=\"txtCityStateZip\"]\"\"\")\n",
    "    add_state.clear()\n",
    "\n",
    "    add_state.send_keys(f\"{state}\")\n",
    "    time.sleep(5)\n",
    "\n",
    "    search = driver.find_element_by_xpath(\"\"\"//*[@id=\"ContentPlaceHolder1_searchButton\"]\"\"\")\n",
    "    search.click()\n",
    "#     time.sleep(5)\n",
    "\n",
    "    while True:\n",
    "        soup = BeautifulSoup(driver.page_source, 'html.parser')\n",
    "        items = soup.select('div[class=\"resultsDetails\"]')\n",
    "        if len(items)!=0:\n",
    "            break\n",
    "        else:\n",
    "            time.sleep(1)\n",
    "            continue\n",
    "    #print(len(items))\n",
    "    \n",
    "    n=0\n",
    "    for item in items:\n",
    "        name      = str(item.select_one('[itemprop=\"name\"]').text).strip()\n",
    "        latitude  = str(item.select_one('[itemprop=\"latitude\"]')[\"content\"]).strip()\n",
    "        if latitude==\"0\":\n",
    "            latitude = \"\"\n",
    "\n",
    "        longitude = str(item.select_one('[itemprop=\"longitude\"]')[\"content\"]).strip()\n",
    "        if longitude==\"0\":\n",
    "            longitude = \"\"\n",
    "\n",
    "        address            = item.select_one('[itemprop=\"address\"]')\n",
    "        try:\n",
    "            streetAddress  = str(address.select_one('[itemprop=\"streetAddress\"]').text).strip()\n",
    "        except:\n",
    "            streetAddress  = \"\"\n",
    "\n",
    "        addressLocality_raw = address.select_one('[itemprop=\"addressLocality\"]')\n",
    "        addressLocality     = str(address.select_one('[itemprop=\"addressLocality\"]').text).strip().strip(\",\")\n",
    "\n",
    "        try:\n",
    "            misplaced_phone_number    = addressLocality_raw.select_one('[itemprop=\"postalCode\"]').text \n",
    "            addressLocality = \"\"\n",
    "        except:\n",
    "            pass\n",
    "\n",
    "        try:\n",
    "            addressRegion = str(address.select_one('[itemprop=\"addressRegion\"]').text).strip()\n",
    "        except:\n",
    "            addressRegion = \"\"\n",
    "\n",
    "        try:\n",
    "            postalCode = str(address.select_one('[itemprop=\"postalCode\"]').text).strip()\n",
    "        except:\n",
    "            postalCode = \"\"\n",
    "\n",
    "        try:\n",
    "            phone  = str(address.select_one('[itemprop=\"telephone\"]').text).strip()\n",
    "        except:\n",
    "            phone  = \"\"\n",
    "\n",
    "        try:\n",
    "            website = str(item.select_one('[id=\"website\"]')[\"href\"]).strip()\n",
    "        except:\n",
    "            website = \"\"\n",
    "\n",
    "        try:\n",
    "            email = str(item.select_one('[id=\"emailContact\"]')[\"href\"]).replace(\"mailto:\",\"\").strip()\n",
    "        except:\n",
    "            email = \"\"\n",
    "\n",
    "        try:\n",
    "            direction = str(item.select_one('[class=\"directions\"]')[\"href\"]).strip()\n",
    "        except:\n",
    "            direction = \"\"\n",
    "\n",
    "        \n",
    "        f_data = [name,latitude,longitude,streetAddress,addressLocality,addressRegion,postalCode,phone,website,email,direction]\n",
    "        with open('output_89_canada.csv', 'a', newline='', encoding=\"ansi\", errors=\"ignore\") as new_file:\n",
    "            csv_writer = csv.writer(new_file)\n",
    "            csv_writer.writerow(f_data)\n",
    "        n+=1\n",
    "        \n",
    "    print(i,len(items),n)"
   ]
  },
  {
   "cell_type": "code",
   "execution_count": 59,
   "metadata": {},
   "outputs": [
    {
     "name": "stdout",
     "output_type": "stream",
     "text": [
      "328\n"
     ]
    }
   ],
   "source": [
    "country = driver.find_element_by_xpath(\"\"\"//*[@id=\"ctl00_ContentPlaceHolder1_countryList\"]/option[2]\"\"\")\n",
    "country.click()\n",
    "time.sleep(5)\n",
    "\n",
    "radius = driver.find_element_by_xpath(\"\"\"//*[@id=\"ContentPlaceHolder1_radiusList\"]/option[5]\"\"\")\n",
    "radius.click()\n",
    "time.sleep(5)\n",
    "\n",
    "add_state = driver.find_element_by_xpath(\"\"\"//*[@id=\"txtCityStateZip\"]\"\"\")\n",
    "add_state.clear()\n",
    "\n",
    "add_state.send_keys(\"CA\")\n",
    "time.sleep(5)\n",
    "\n",
    "search = driver.find_element_by_xpath(\"\"\"//*[@id=\"ContentPlaceHolder1_searchButton\"]\"\"\")\n",
    "search.click()\n",
    "time.sleep(5)\n",
    "\n",
    "while True:\n",
    "    soup = BeautifulSoup(driver.page_source, 'html.parser')\n",
    "    items = soup.select('div[class=\"resultsDetails\"]')\n",
    "    if len(items)!=0:\n",
    "        break\n",
    "    else:\n",
    "        time.sleep(1)\n",
    "        continue\n",
    "print(len(items))"
   ]
  },
  {
   "cell_type": "code",
   "execution_count": 55,
   "metadata": {},
   "outputs": [
    {
     "data": {
      "text/plain": [
       "[]"
      ]
     },
     "execution_count": 55,
     "metadata": {},
     "output_type": "execute_result"
    }
   ],
   "source": [
    "items"
   ]
  },
  {
   "cell_type": "code",
   "execution_count": 15,
   "metadata": {},
   "outputs": [],
   "source": []
  },
  {
   "cell_type": "code",
   "execution_count": 16,
   "metadata": {},
   "outputs": [],
   "source": []
  },
  {
   "cell_type": "code",
   "execution_count": 72,
   "metadata": {},
   "outputs": [
    {
     "name": "stdout",
     "output_type": "stream",
     "text": [
      "All-Terrain Medical & Mobility LLC\n",
      "Amazon\n",
      "American Best Pool Supply\n",
      "Doheny's Water Warehouse\n",
      "In The Swim\n",
      "Leslies Swimming Pool Products\n",
      "Lincoln Aquatics\n",
      "Pool Supply Unlimited\n",
      "Pool Time\n",
      "Pool Works, Inc.\n",
      "PoolWeb Pool & Spa Supplies\n",
      "Spinlife\n",
      "The Lifeguard Store\n",
      "Rainwise Pools Melbourne\n"
     ]
    }
   ],
   "source": [
    "\n",
    "    \n",
    "for item in items:\n",
    "    name      = str(item.select_one('[itemprop=\"name\"]').text).strip()\n",
    "    latitude  = str(item.select_one('[itemprop=\"latitude\"]')[\"content\"]).strip()\n",
    "    if latitude==\"0\":\n",
    "        latitude = \"\"\n",
    "        \n",
    "    longitude = str(item.select_one('[itemprop=\"longitude\"]')[\"content\"]).strip()\n",
    "    if longitude==\"0\":\n",
    "        longitude = \"\"\n",
    "        \n",
    "    address            = item.select_one('[itemprop=\"address\"]')\n",
    "    try:\n",
    "        streetAddress  = str(address.select_one('[itemprop=\"streetAddress\"]').text).strip()\n",
    "    except:\n",
    "        streetAddress  = \"\"\n",
    "    \n",
    "    addressLocality_raw = address.select_one('[itemprop=\"addressLocality\"]')\n",
    "    addressLocality     = str(address.select_one('[itemprop=\"addressLocality\"]').text).strip().strip(\",\")\n",
    "    \n",
    "    try:\n",
    "        misplaced_phone_number    = addressLocality_raw.select_one('[itemprop=\"postalCode\"]').text \n",
    "        addressLocality = \"\"\n",
    "    except:\n",
    "        pass\n",
    "    \n",
    "    try:\n",
    "        addressRegion = str(address.select_one('[itemprop=\"addressRegion\"]').text).strip()\n",
    "    except:\n",
    "        addressRegion = \"\"\n",
    "    \n",
    "    try:\n",
    "        postalCode = str(address.select_one('[itemprop=\"postalCode\"]').text).strip()\n",
    "    except:\n",
    "        postalCode = \"\"\n",
    "    \n",
    "    try:\n",
    "        phone  = str(address.select_one('[itemprop=\"telephone\"]').text).strip()\n",
    "    except:\n",
    "        phone  = \"\"\n",
    "        \n",
    "    try:\n",
    "        website = str(item.select_one('[id=\"website\"]')[\"href\"]).strip()\n",
    "    except:\n",
    "        website = \"\"\n",
    "    \n",
    "    try:\n",
    "        email = str(item.select_one('[id=\"emailContact\"]')[\"href\"]).replace(\"mailto:\",\"\").strip()\n",
    "    except:\n",
    "        email = \"\"\n",
    "    \n",
    "    try:\n",
    "        direction = str(item.select_one('[class=\"directions\"]')[\"href\"]).strip()\n",
    "    except:\n",
    "        direction = \"\"\n",
    "    \n",
    "    print(name)\n",
    "    f_data = [name,latitude,longitude,streetAddress,addressLocality,addressRegion,postalCode,phone,website,email,direction]\n",
    "    with open('output_89.csv', 'a', newline='', encoding=\"ansi\", errors=\"ignore\") as new_file:\n",
    "        csv_writer = csv.writer(new_file)\n",
    "        csv_writer.writerow(f_data)\n",
    "\n",
    "#     break"
   ]
  },
  {
   "cell_type": "code",
   "execution_count": null,
   "metadata": {},
   "outputs": [],
   "source": []
  }
 ],
 "metadata": {
  "kernelspec": {
   "display_name": "Python 3",
   "language": "python",
   "name": "python3"
  },
  "language_info": {
   "codemirror_mode": {
    "name": "ipython",
    "version": 3
   },
   "file_extension": ".py",
   "mimetype": "text/x-python",
   "name": "python",
   "nbconvert_exporter": "python",
   "pygments_lexer": "ipython3",
   "version": "3.9.1"
  }
 },
 "nbformat": 4,
 "nbformat_minor": 4
}

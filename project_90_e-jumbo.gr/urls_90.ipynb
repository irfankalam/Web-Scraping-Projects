{
 "cells": [
  {
   "cell_type": "code",
   "execution_count": 2,
   "metadata": {},
   "outputs": [],
   "source": [
    "from bs4 import BeautifulSoup\n",
    "import html.parser\n",
    "import json\n",
    "import csv\n",
    "import time\n",
    "import re\n",
    "import requests"
   ]
  },
  {
   "cell_type": "code",
   "execution_count": 3,
   "metadata": {},
   "outputs": [],
   "source": [
    "headers = {\n",
    "    'authority': 'www.e-jumbo.gr',\n",
    "    'sec-ch-ua': '\" Not;A Brand\";v=\"99\", \"Google Chrome\";v=\"91\", \"Chromium\";v=\"91\"',\n",
    "    'accept': 'application/json, text/javascript, */*; q=0.01',\n",
    "    'x-requested-with': 'XMLHttpRequest',\n",
    "    'sec-ch-ua-mobile': '?0',\n",
    "    'user-agent': 'Mozilla/5.0 (Windows NT 10.0; Win64; x64) AppleWebKit/537.36 (KHTML, like Gecko) Chrome/91.0.4472.101 Safari/537.36',\n",
    "    'content-type': 'application/json; charset=UTF-8',\n",
    "    'origin': 'https://www.e-jumbo.gr',\n",
    "    'sec-fetch-site': 'same-origin',\n",
    "    'sec-fetch-mode': 'cors',\n",
    "    'sec-fetch-dest': 'empty',\n",
    "    'referer': 'https://www.e-jumbo.gr',\n",
    "    'accept-language': 'en-US,en;q=0.9,hi;q=0.8',\n",
    "}"
   ]
  },
  {
   "cell_type": "code",
   "execution_count": 4,
   "metadata": {},
   "outputs": [
    {
     "name": "stdout",
     "output_type": "stream",
     "text": [
      "9\n"
     ]
    }
   ],
   "source": [
    "main_urls = []\n",
    "with open('main_urls_90.csv', 'r' ) as csv_file:\n",
    "    csv_reader = csv.reader(csv_file)\n",
    "    for line in csv_reader:\n",
    "        main_url = str(line[0]).strip()\n",
    "        main_urls.append(main_url)\n",
    "print(len(main_urls))"
   ]
  },
  {
   "cell_type": "code",
   "execution_count": 12,
   "metadata": {},
   "outputs": [
    {
     "name": "stdout",
     "output_type": "stream",
     "text": [
      "https://www.e-jumbo.gr/eidi-pet-shop/volta-skylou/\n"
     ]
    }
   ],
   "source": [
    "print(main_urls[1])"
   ]
  },
  {
   "cell_type": "code",
   "execution_count": 11,
   "metadata": {},
   "outputs": [
    {
     "name": "stdout",
     "output_type": "stream",
     "text": [
      "1 96\n",
      "2 96\n",
      "3 0\n",
      "1 47\n",
      "2 0\n",
      "1 22\n",
      "2 0\n",
      "1 8\n",
      "2 0\n",
      "1 17\n",
      "2 0\n",
      "1 11\n",
      "2 0\n",
      "1 96\n",
      "2 96\n",
      "3 96\n",
      "4 96\n",
      "5 96\n",
      "6 96\n",
      "7 96\n",
      "8 96\n",
      "9 96\n",
      "10 96\n",
      "11 96\n",
      "12 96\n",
      "13 96\n",
      "14 96\n",
      "15 96\n",
      "16 96\n",
      "17 96\n",
      "18 96\n",
      "19 96\n",
      "20 96\n",
      "21 96\n",
      "22 96\n",
      "23 40\n",
      "24 0\n",
      "1 96\n",
      "2 96\n",
      "3 96\n",
      "4 96\n",
      "5 96\n",
      "6 96\n",
      "7 96\n",
      "8 33\n",
      "9 0\n",
      "1 96\n",
      "2 96\n",
      "3 96\n",
      "4 96\n",
      "5 96\n",
      "6 96\n",
      "7 96\n",
      "8 96\n",
      "9 96\n",
      "10 96\n",
      "11 96\n",
      "12 96\n",
      "13 96\n",
      "14 96\n",
      "15 96\n",
      "16 96\n",
      "17 96\n",
      "18 96\n",
      "19 96\n",
      "20 96\n",
      "21 96\n",
      "22 96\n",
      "23 96\n",
      "24 96\n",
      "25 96\n",
      "26 96\n",
      "27 96\n",
      "28 96\n",
      "29 96\n",
      "30 96\n",
      "31 85\n",
      "32 0\n"
     ]
    }
   ],
   "source": [
    "for main_url in main_urls:\n",
    "    n=1\n",
    "    while True:\n",
    "        r = requests.get(main_url+f\"/p{str(n)}/\", headers=headers)\n",
    "        soup = BeautifulSoup(r.text, 'html.parser')\n",
    "        items = soup.select('[class=\"product-list\"] h4[class=\"desc\"] a')\n",
    "        print(n,len(items))\n",
    "        \n",
    "        n+=1\n",
    "        if len(items)==0:\n",
    "            break\n",
    "        for item in items:\n",
    "            url = \"https://www.e-jumbo.gr\" + str(item[\"href\"]).strip()\n",
    "            with open('urls_90.csv', 'a', newline='', encoding=\"utf-8\") as new_file:\n",
    "                csv_writer = csv.writer(new_file)\n",
    "                csv_writer.writerow([url])\n",
    "        "
   ]
  },
  {
   "cell_type": "code",
   "execution_count": null,
   "metadata": {},
   "outputs": [],
   "source": [
    "import requests\n",
    "\n",
    "headers = {\n",
    "    'sec-ch-ua': '\" Not;A Brand\";v=\"99\", \"Google Chrome\";v=\"91\", \"Chromium\";v=\"91\"',\n",
    "    'Accept': 'application/json, text/javascript, */*; q=0.01',\n",
    "    'Referer': 'https://www.e-jumbo.gr/axesouar-i-y-kiniton/',\n",
    "    'X-Requested-With': 'XMLHttpRequest',\n",
    "    'sec-ch-ua-mobile': '?0',\n",
    "    'User-Agent': 'Mozilla/5.0 (Windows NT 10.0; Win64; x64) AppleWebKit/537.36 (KHTML, like Gecko) Chrome/91.0.4472.101 Safari/537.36',\n",
    "    'Content-Type': 'application/json; charset=UTF-8',\n",
    "}\n",
    "\n",
    "params = (\n",
    "    ('lang', 'el'),\n",
    "    ('templateCode', 'productList'),\n",
    "    ('configCode', ''),\n",
    "    ('itemId', '1401849'),\n",
    "    ('itemPath', '-1889390907'),\n",
    "    ('pageNumber', '2'),\n",
    "    ('pageSize', '96'),\n",
    "    ('sortKey', 'Price-Tree-Ascending'),\n",
    "    ('fullPath', ',1,331,2,209822,1401849,'),\n",
    ")\n",
    "\n",
    "response = requests.get('https://www.e-jumbo.gr/CachedServices/api/Product/GetScrolledProductList', headers=headers, params=params)\n",
    "\n",
    "#NB. Original query string below. It seems impossible to parse and\n",
    "#reproduce query strings 100% accurately so the one below is given\n",
    "#in case the reproduced version is not \"correct\".\n",
    "# response = requests.get('https://www.e-jumbo.gr/CachedServices/api/Product/GetScrolledProductList?lang=el&templateCode=productList&configCode=&itemId=1401849&itemPath=-1889390907&pageNumber=2&pageSize=96&sortKey=Price-Tree-Ascending&fullPath=%2C1%2C331%2C2%2C209822%2C1401849%2C', headers=headers)\n"
   ]
  }
 ],
 "metadata": {
  "kernelspec": {
   "display_name": "Python 3",
   "language": "python",
   "name": "python3"
  },
  "language_info": {
   "codemirror_mode": {
    "name": "ipython",
    "version": 3
   },
   "file_extension": ".py",
   "mimetype": "text/x-python",
   "name": "python",
   "nbconvert_exporter": "python",
   "pygments_lexer": "ipython3",
   "version": "3.9.1"
  }
 },
 "nbformat": 4,
 "nbformat_minor": 4
}
